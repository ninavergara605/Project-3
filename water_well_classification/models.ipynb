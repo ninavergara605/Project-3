{
  "nbformat": 4,
  "nbformat_minor": 0,
  "metadata": {
    "colab": {
      "name": "models.ipynb",
      "provenance": [],
      "collapsed_sections": []
    },
    "kernelspec": {
      "name": "python3",
      "display_name": "Python 3"
    },
    "language_info": {
      "name": "python"
    }
  },
  "cells": [
    {
      "cell_type": "code",
      "metadata": {
        "colab": {
          "base_uri": "https://localhost:8080/"
        },
        "id": "JEPWfoWRPinZ",
        "outputId": "9d422fc3-a905-401f-9005-1ac0323da232"
      },
      "source": [
        "import pandas as pd\n",
        "import numpy as np\n",
        "from seaborn import heatmap\n",
        "import matplotlib.pyplot as plt\n",
        "%matplotlib inline\n",
        "\n",
        "from sklearn.metrics import plot_confusion_matrix, confusion_matrix\n",
        "from sklearn.model_selection import GridSearchCV, cross_val_score\n",
        "from sklearn.preprocessing import label_binarize\n",
        "\n",
        "from sklearn.tree import DecisionTreeClassifier\n",
        "from sklearn.ensemble import AdaBoostClassifier, GradientBoostingClassifier"
      ],
      "execution_count": 55,
      "outputs": [
        {
          "output_type": "stream",
          "text": [
            "Drive already mounted at /content/drive; to attempt to forcibly remount, call drive.mount(\"/content/drive\", force_remount=True).\n"
          ],
          "name": "stdout"
        }
      ]
    },
    {
      "cell_type": "code",
      "metadata": {
        "id": "QeZUn7iXVVhW",
        "colab": {
          "base_uri": "https://localhost:8080/"
        },
        "outputId": "9ad1bccb-eb0d-496f-aed8-16c72b1e8f87"
      },
      "source": [
        "X_train = pd.read_csv('./data/processed_train.csv').set_index('id').drop(columns=['Unnamed: 0'])\n",
        "y_train = pd.read_csv('./data/train_pred.csv').set_index('id').drop(columns=['Unnamed: 0'])\n",
        "binary_y = label_binarize(y_train['y'], classes=['functional', 'non functional', 'functional needs repair'])"
      ],
      "execution_count": 32,
      "outputs": [
        {
          "output_type": "stream",
          "text": [
            "id\n",
            "0        non functional\n",
            "1            functional\n",
            "2            functional\n",
            "3            functional\n",
            "4        non functional\n",
            "              ...      \n",
            "96772    non functional\n",
            "96773    non functional\n",
            "96774    non functional\n",
            "96775    non functional\n",
            "96776    non functional\n",
            "Name: y, Length: 96777, dtype: object\n"
          ],
          "name": "stdout"
        },
        {
          "output_type": "execute_result",
          "data": {
            "text/plain": [
              "array([[0, 1, 0],\n",
              "       [1, 0, 0],\n",
              "       [1, 0, 0],\n",
              "       ...,\n",
              "       [0, 1, 0],\n",
              "       [0, 1, 0],\n",
              "       [0, 1, 0]])"
            ]
          },
          "metadata": {
            "tags": []
          },
          "execution_count": 32
        }
      ]
    },
    {
      "cell_type": "markdown",
      "metadata": {
        "id": "S4JVGWCafDEQ"
      },
      "source": [
        "# Grid Search"
      ]
    },
    {
      "cell_type": "code",
      "metadata": {
        "id": "oaCG8fDOfLpc"
      },
      "source": [
        "def grid_search(model, grid, X_train,y_train, cv=None):\n",
        "    gs = GridSearchCV(estimator=model, param_grid=grid, cv=cv)\n",
        "    gs.fit(X_train, y_train)\n",
        "    return gs.best_params_\n",
        "\n",
        "\n",
        "def randomized_search(model, params, X_train, Y_train):\n",
        "    gs_rand = RandomizedSearchCV(model, params)\n",
        "    gs_rand.fit(X_train, y_train)\n",
        "    return gs.best_params_\n"
      ],
      "execution_count": 15,
      "outputs": []
    },
    {
      "cell_type": "markdown",
      "metadata": {
        "id": "NGTuwgEjWU5F"
      },
      "source": [
        "### Classifier Evaluation"
      ]
    },
    {
      "cell_type": "code",
      "metadata": {
        "id": "Lnoc2g06WaDo"
      },
      "source": [
        "def evaluate_classifier(model, X, y_actual):\n",
        "    cross_val_mean = np.mean(cross_val_score(model, X, y_actual))\n",
        "    print(f\"Average cross val score: {cross_val_mean}\")\n",
        "    \n",
        "    model.fit(X_train, y_actual)\n",
        "    y_pred = model.predict(X)\n",
        "    print(cross_val_mean)\n",
        "  \n",
        "    try:\n",
        "        cm = confusion_matrix(y_actual.argmax(axis=1), y_pred.argmax(axis=1))\n",
        "    except:\n",
        "        cm = confusion_matrix(y_actual, y_pred)\n",
        "  \n",
        "    heatmap(cm, xticklabels=['functional', 'non functional', 'needs repair']\n",
        "                  , yticklabels=['functional', 'non functional', 'needs repair']\n",
        "                  ,annot=True\n",
        "                  ,cmap='viridis'), \n",
        "    print(cm)\n",
        "    \n",
        "  \n",
        "    #plot_roc_curve(model, X, y_actual['y'])"
      ],
      "execution_count": 71,
      "outputs": []
    },
    {
      "cell_type": "markdown",
      "metadata": {
        "id": "K9dKbX5zkFlS"
      },
      "source": [
        "# Dummy Model\n",
        "For my dummy model, I'll be predicting 'function'. Since each class is distributed equally, the accuracy for this dummy model will be the same for always predicting 'non functional' or 'functional needs repair'\n"
      ]
    },
    {
      "cell_type": "code",
      "metadata": {
        "colab": {
          "base_uri": "https://localhost:8080/"
        },
        "id": "dYDlt0dekEt4",
        "outputId": "0f9ebd27-5d73-4a1d-fa9b-2e06cdbafd46"
      },
      "source": [
        "y_pred = ['functional']*len(y_train)\n",
        "accuracy_score(y_train['y'], y_pred)"
      ],
      "execution_count": 66,
      "outputs": [
        {
          "output_type": "execute_result",
          "data": {
            "text/plain": [
              "0.3333333333333333"
            ]
          },
          "metadata": {
            "tags": []
          },
          "execution_count": 66
        }
      ]
    },
    {
      "cell_type": "markdown",
      "metadata": {
        "id": "17pA0oaOU9XI"
      },
      "source": [
        "# Decision Tree"
      ]
    },
    {
      "cell_type": "markdown",
      "metadata": {
        "id": "jNIDj_A3V98J"
      },
      "source": [
        "### Decision Tree With Default Parameters\n",
        "\n",
        "The default model has a high accuracy but it could be overfitting"
      ]
    },
    {
      "cell_type": "code",
      "metadata": {
        "colab": {
          "base_uri": "https://localhost:8080/",
          "height": 356
        },
        "id": "9Ya5tJ_EVDK0",
        "outputId": "d95e9a9d-6d8e-4207-aa89-f81bca14c884"
      },
      "source": [
        "tree_clf_baseline = DecisionTreeClassifier(random_state=666)\n",
        "evaluate_classifier(tree_clf_baseline, X_train, binary_y)\n"
      ],
      "execution_count": 59,
      "outputs": [
        {
          "output_type": "stream",
          "text": [
            "Average cross val score: 0.7057053874623375\n",
            "Accuracy: 0.8463271231800944\n",
            "[[28451  1562  2246]\n",
            " [ 4200 26955  1104]\n",
            " [ 2931   403 28925]]\n"
          ],
          "name": "stdout"
        },
        {
          "output_type": "display_data",
          "data": {
            "image/png": "[encoded data removed]",
            "text/plain": [
              "<Figure size 432x288 with 2 Axes>"
            ]
          },
          "metadata": {
            "tags": [],
            "needs_background": "light"
          }
        }
      ]
    },
    {
      "cell_type": "markdown",
      "metadata": {
        "id": "Yty8rA9WlKFB"
      },
      "source": [
        "### Parameter Tuning\n",
        "\n",
        "To handle overfitting we'll modify:\n",
        "\n",
        "\n",
        "*   minimum samples per leaf node\n",
        "*   Max number of leaf nodes\n",
        "*   Minimum impurity decrease\n",
        "\n"
      ]
    },
    {
      "cell_type": "code",
      "metadata": {
        "colab": {
          "base_uri": "https://localhost:8080/"
        },
        "id": "wTmWidWOYT6I",
        "outputId": "ca2155c0-0cc0-4898-cb70-c8fc09d67217"
      },
      "source": [
        "num_samples = len(X_train)\n",
        "\n",
        "grid = {'min_samples_leaf' : [1,.15,.5,.03,.25]\n",
        "      ,'max_leaf_nodes' : [4,5,40]\n",
        "      ,'min_impurity_decrease' : [.15,.25,.5,.33]\n",
        "      ,'criterion': ['gini', 'entropy']}\n",
        "\n",
        "\n",
        "tuning_model = DecisionTreeClassifier(random_state=666)\n",
        "best_params = grid_search(tuning_model, grid, X_train, y_train)\n",
        "best_params"
      ],
      "execution_count": 60,
      "outputs": [
        {
          "output_type": "execute_result",
          "data": {
            "text/plain": [
              "{'criterion': 'entropy',\n",
              " 'max_leaf_nodes': 4,\n",
              " 'min_impurity_decrease': 0.15,\n",
              " 'min_samples_leaf': 1}"
            ]
          },
          "metadata": {
            "tags": []
          },
          "execution_count": 60
        }
      ]
    },
    {
      "cell_type": "markdown",
      "metadata": {
        "id": "8AQnOC7Wygrx"
      },
      "source": [
        "### Grid searched Decision tree preformed worse than the dummy classifier"
      ]
    },
    {
      "cell_type": "code",
      "metadata": {
        "colab": {
          "base_uri": "https://localhost:8080/",
          "height": 356
        },
        "id": "xydXSLpgxtkN",
        "outputId": "a4eab718-641c-4266-8a1c-7eb3aced82f2"
      },
      "source": [
        "grid_search_decision_tree = DecisionTreeClassifier(random_state=666, **best_params)\n",
        "evaluate_classifier(grid_search_decision_tree, X_train, binary_y)\n"
      ],
      "execution_count": 62,
      "outputs": [
        {
          "output_type": "stream",
          "text": [
            "Average cross val score: 0.2013984044966602\n",
            "Accuracy: 0.0\n",
            "[[32259     0     0]\n",
            " [32259     0     0]\n",
            " [32259     0     0]]\n"
          ],
          "name": "stdout"
        },
        {
          "output_type": "display_data",
          "data": {
            "image/png": "[encoded data removed]",
            "text/plain": [
              "<Figure size 432x288 with 2 Axes>"
            ]
          },
          "metadata": {
            "tags": [],
            "needs_background": "light"
          }
        }
      ]
    },
    {
      "cell_type": "markdown",
      "metadata": {
        "id": "PWoE1JDmGMUu"
      },
      "source": [
        "## Gradient Boosting "
      ]
    },
    {
      "cell_type": "code",
      "metadata": {
        "colab": {
          "base_uri": "https://localhost:8080/",
          "height": 356
        },
        "id": "QBlJVMowlhJk",
        "outputId": "531cd15d-9d98-49df-8ae6-7a013308f410"
      },
      "source": [
        "gbc = GradientBoostingClassifier(random_state=666)\n",
        "evaluate_classifier(gbc, X_train, y_train['y'])"
      ],
      "execution_count": 72,
      "outputs": [
        {
          "output_type": "stream",
          "text": [
            "Average cross val score: 0.762495429556066\n",
            "0.762495429556066\n",
            "[[22926  5310  4023]\n",
            " [ 3090 27529  1640]\n",
            " [ 5661  3097 23501]]\n"
          ],
          "name": "stdout"
        },
        {
          "output_type": "display_data",
          "data": {
            "image/png": "[encoded data removed]",
            "text/plain": [
              "<Figure size 432x288 with 2 Axes>"
            ]
          },
          "metadata": {
            "tags": [],
            "needs_background": "light"
          }
        }
      ]
    },
    {
      "cell_type": "markdown",
      "metadata": {
        "id": "qSTHvlQlGRtS"
      },
      "source": [
        "## AdaBoost Classifier"
      ]
    },
    {
      "cell_type": "code",
      "metadata": {
        "colab": {
          "base_uri": "https://localhost:8080/",
          "height": 356
        },
        "id": "b5qqLgy6nyn2",
        "outputId": "9283379e-e4fa-4af2-be3d-f6c2acb67694"
      },
      "source": [
        "ada_boost = AdaBoostClassifier(random_state=666)\n",
        "evaluate_classifier(gbc, X_train,y_train['y'])"
      ],
      "execution_count": 75,
      "outputs": [
        {
          "output_type": "stream",
          "text": [
            "Average cross val score: 0.762495429556066\n",
            "0.762495429556066\n",
            "[[22926  5310  4023]\n",
            " [ 3090 27529  1640]\n",
            " [ 5661  3097 23501]]\n"
          ],
          "name": "stdout"
        },
        {
          "output_type": "display_data",
          "data": {
            "image/png": "[encoded data removed]",
            "text/plain": [
              "<Figure size 432x288 with 2 Axes>"
            ]
          },
          "metadata": {
            "tags": [],
            "needs_background": "light"
          }
        }
      ]
    },
    {
      "cell_type": "code",
      "metadata": {
        "id": "Fr9YchhV6bGO"
      },
      "source": [
        ""
      ],
      "execution_count": null,
      "outputs": []
    }
  ]
}